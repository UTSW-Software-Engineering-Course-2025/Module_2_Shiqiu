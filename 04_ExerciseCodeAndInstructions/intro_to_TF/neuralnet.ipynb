{
 "cells": [
  {
   "cell_type": "code",
   "execution_count": 1,
   "id": "c287f09d",
   "metadata": {},
   "outputs": [
    {
     "name": "stderr",
     "output_type": "stream",
     "text": [
      "2025-05-25 16:40:17.062186: E external/local_xla/xla/stream_executor/cuda/cuda_fft.cc:467] Unable to register cuFFT factory: Attempting to register factory for plugin cuFFT when one has already been registered\n",
      "WARNING: All log messages before absl::InitializeLog() is called are written to STDERR\n",
      "E0000 00:00:1748209217.088829   29283 cuda_dnn.cc:8579] Unable to register cuDNN factory: Attempting to register factory for plugin cuDNN when one has already been registered\n",
      "E0000 00:00:1748209217.096784   29283 cuda_blas.cc:1407] Unable to register cuBLAS factory: Attempting to register factory for plugin cuBLAS when one has already been registered\n",
      "W0000 00:00:1748209217.116776   29283 computation_placer.cc:177] computation placer already registered. Please check linkage and avoid linking the same target more than once.\n",
      "W0000 00:00:1748209217.116795   29283 computation_placer.cc:177] computation placer already registered. Please check linkage and avoid linking the same target more than once.\n",
      "W0000 00:00:1748209217.116797   29283 computation_placer.cc:177] computation placer already registered. Please check linkage and avoid linking the same target more than once.\n",
      "W0000 00:00:1748209217.116799   29283 computation_placer.cc:177] computation placer already registered. Please check linkage and avoid linking the same target more than once.\n"
     ]
    }
   ],
   "source": [
    "import os\n",
    "import tensorflow as tf\n",
    "from tensorflow import keras\n",
    "from tensorflow.keras import layers\n",
    "from tensorflow.keras.datasets import mnist"
   ]
  },
  {
   "cell_type": "code",
   "execution_count": 2,
   "id": "adc265b7",
   "metadata": {},
   "outputs": [],
   "source": [
    "# load and prepare data for training\n",
    "(x_train, y_train), (x_test, y_test) = mnist.load_data()\n",
    "x_train = x_train.reshape(-1, 28 * 28).astype(\"float32\") / 255.0\n",
    "x_test = x_test.reshape(-1, 28 * 28).astype(\"float32\") / 255.0"
   ]
  },
  {
   "attachments": {},
   "cell_type": "markdown",
   "id": "350fbab3",
   "metadata": {},
   "source": [
    "## Dense Feed Forward Neural Networks (DFNNs)  also known as multi-layer perceptrons(MLPs)\n",
    "* well suited for inferencing from tabular data"
   ]
  },
  {
   "attachments": {},
   "cell_type": "markdown",
   "id": "db8118db",
   "metadata": {},
   "source": [
    "### Construct DFNN model using Sequential API  \n",
    "* simple interface\n",
    "* limited functionality"
   ]
  },
  {
   "cell_type": "code",
   "execution_count": 3,
   "id": "c343812c",
   "metadata": {},
   "outputs": [
    {
     "name": "stderr",
     "output_type": "stream",
     "text": [
      "I0000 00:00:1748209231.949856   29283 gpu_device.cc:2019] Created device /job:localhost/replica:0/task:0/device:GPU:0 with 15506 MB memory:  -> device: 0, name: Tesla P100-PCIE-16GB, pci bus id: 0000:82:00.0, compute capability: 6.0\n"
     ]
    }
   ],
   "source": [
    "# Sequential API (Very convenient, not very flexible)\n",
    "modelDFNN1 = keras.Sequential(\n",
    "    [\n",
    "        keras.Input(shape=(28 * 28)),\n",
    "        layers.Dense(512, activation=\"relu\"),\n",
    "        layers.Dense(256, activation=\"relu\"),\n",
    "        layers.Dense(10),\n",
    "    ]\n",
    ")\n",
    "\n",
    "modelDFNN1 = keras.Sequential()\n",
    "modelDFNN1.add(keras.Input(shape=(784)))\n",
    "modelDFNN1.add(layers.Dense(512, activation=\"relu\"))\n",
    "modelDFNN1.add(layers.Dense(256, activation=\"relu\", name=\"my_layer\"))\n",
    "modelDFNN1.add(layers.Dense(10))"
   ]
  },
  {
   "cell_type": "code",
   "execution_count": 4,
   "id": "4d6c1f9c",
   "metadata": {},
   "outputs": [
    {
     "name": "stdout",
     "output_type": "stream",
     "text": [
      "Model: \"sequential_1\"\n",
      "_________________________________________________________________\n",
      " Layer (type)                Output Shape              Param #   \n",
      "=================================================================\n",
      " dense_3 (Dense)             (None, 512)               401920    \n",
      "                                                                 \n",
      " my_layer (Dense)            (None, 256)               131328    \n",
      "                                                                 \n",
      " dense_4 (Dense)             (None, 10)                2570      \n",
      "                                                                 \n",
      "=================================================================\n",
      "Total params: 535818 (2.04 MB)\n",
      "Trainable params: 535818 (2.04 MB)\n",
      "Non-trainable params: 0 (0.00 Byte)\n",
      "_________________________________________________________________\n"
     ]
    }
   ],
   "source": [
    "# ToDo #1: List what objects the modelDFNN1 is comprised of (built from)\n",
    "modelDFNN1.summary()"
   ]
  },
  {
   "cell_type": "code",
   "execution_count": 5,
   "id": "f1c00633",
   "metadata": {},
   "outputs": [
    {
     "name": "stderr",
     "output_type": "stream",
     "text": [
      "WARNING:absl:`lr` is deprecated in TF-Keras optimizer, please use `learning_rate` or use the legacy optimizer, e.g.,tf.keras.optimizers.legacy.Adam.\n"
     ]
    }
   ],
   "source": [
    "modelDFNN1.compile(\n",
    "    loss=keras.losses.SparseCategoricalCrossentropy(from_logits=False),\n",
    "    optimizer=keras.optimizers.Adam(lr=0.001),\n",
    "    metrics=[\"accuracy\"],\n",
    ")"
   ]
  },
  {
   "cell_type": "code",
   "execution_count": 6,
   "id": "cb47d972",
   "metadata": {},
   "outputs": [
    {
     "name": "stdout",
     "output_type": "stream",
     "text": [
      "Epoch 1/5\n"
     ]
    },
    {
     "name": "stderr",
     "output_type": "stream",
     "text": [
      "WARNING: All log messages before absl::InitializeLog() is called are written to STDERR\n",
      "I0000 00:00:1748209516.187164   29580 service.cc:152] XLA service 0x2aae822f1a40 initialized for platform CUDA (this does not guarantee that XLA will be used). Devices:\n",
      "I0000 00:00:1748209516.187496   29580 service.cc:160]   StreamExecutor device (0): Tesla P100-PCIE-16GB, Compute Capability 6.0\n",
      "I0000 00:00:1748209516.428081   29580 cuda_dnn.cc:529] Loaded cuDNN version 90300\n",
      "I0000 00:00:1748209516.648727   29580 device_compiler.h:188] Compiled cluster using XLA!  This line is logged at most once for the lifetime of the process.\n"
     ]
    },
    {
     "name": "stdout",
     "output_type": "stream",
     "text": [
      "1875/1875 - 7s - loss: 2.3329 - accuracy: 0.1041 - 7s/epoch - 4ms/step\n",
      "Epoch 2/5\n",
      "1875/1875 - 4s - loss: 2.3025 - accuracy: 0.0967 - 4s/epoch - 2ms/step\n",
      "Epoch 3/5\n",
      "1875/1875 - 4s - loss: 2.3025 - accuracy: 0.0967 - 4s/epoch - 2ms/step\n",
      "Epoch 4/5\n",
      "1875/1875 - 4s - loss: 2.3025 - accuracy: 0.0967 - 4s/epoch - 2ms/step\n",
      "Epoch 5/5\n",
      "1875/1875 - 4s - loss: 2.3025 - accuracy: 0.0967 - 4s/epoch - 2ms/step\n",
      "313/313 - 1s - loss: 2.3026 - accuracy: 0.1008 - 549ms/epoch - 2ms/step\n"
     ]
    },
    {
     "data": {
      "text/plain": [
       "[2.30259108543396, 0.10080000013113022]"
      ]
     },
     "execution_count": 6,
     "metadata": {},
     "output_type": "execute_result"
    }
   ],
   "source": [
    "modelDFNN1.fit(x_train, y_train, batch_size=32, epochs=5, verbose=2)\n",
    "modelDFNN1.evaluate(x_test, y_test, batch_size=32, verbose=2)"
   ]
  },
  {
   "cell_type": "code",
   "execution_count": 7,
   "id": "325b0a75",
   "metadata": {},
   "outputs": [],
   "source": [
    "# ToDo #2: What train and test accuracy do you obtain when running for 5 epochs ?  \n",
    "\n",
    "# train accuracy: 0.0967\n",
    "# test accuracy: 0.1008\n"
   ]
  },
  {
   "cell_type": "code",
   "execution_count": 8,
   "id": "0f45161c",
   "metadata": {},
   "outputs": [
    {
     "name": "stdout",
     "output_type": "stream",
     "text": [
      "Epoch 1/20\n",
      "1875/1875 - 4s - loss: 2.3025 - accuracy: 0.0967 - 4s/epoch - 2ms/step\n",
      "Epoch 2/20\n",
      "1875/1875 - 4s - loss: 2.3025 - accuracy: 0.0967 - 4s/epoch - 2ms/step\n",
      "Epoch 3/20\n",
      "1875/1875 - 4s - loss: 2.3025 - accuracy: 0.0967 - 4s/epoch - 2ms/step\n",
      "Epoch 4/20\n",
      "1875/1875 - 3s - loss: 2.3025 - accuracy: 0.0967 - 3s/epoch - 2ms/step\n",
      "Epoch 5/20\n",
      "1875/1875 - 4s - loss: 2.3025 - accuracy: 0.0968 - 4s/epoch - 2ms/step\n",
      "Epoch 6/20\n",
      "1875/1875 - 4s - loss: 2.3025 - accuracy: 0.0968 - 4s/epoch - 2ms/step\n",
      "Epoch 7/20\n",
      "1875/1875 - 4s - loss: 2.3025 - accuracy: 0.0968 - 4s/epoch - 2ms/step\n",
      "Epoch 8/20\n",
      "1875/1875 - 4s - loss: 2.3025 - accuracy: 0.0973 - 4s/epoch - 2ms/step\n",
      "Epoch 9/20\n",
      "1875/1875 - 4s - loss: 2.3025 - accuracy: 0.0978 - 4s/epoch - 2ms/step\n",
      "Epoch 10/20\n",
      "1875/1875 - 4s - loss: 2.3025 - accuracy: 0.0989 - 4s/epoch - 2ms/step\n",
      "Epoch 11/20\n",
      "1875/1875 - 4s - loss: 2.3025 - accuracy: 0.0998 - 4s/epoch - 2ms/step\n",
      "Epoch 12/20\n",
      "1875/1875 - 4s - loss: 2.3025 - accuracy: 0.1023 - 4s/epoch - 2ms/step\n",
      "Epoch 13/20\n",
      "1875/1875 - 4s - loss: 2.3025 - accuracy: 0.1031 - 4s/epoch - 2ms/step\n",
      "Epoch 14/20\n",
      "1875/1875 - 4s - loss: 2.3025 - accuracy: 0.1048 - 4s/epoch - 2ms/step\n",
      "Epoch 15/20\n",
      "1875/1875 - 4s - loss: 2.3025 - accuracy: 0.1084 - 4s/epoch - 2ms/step\n",
      "Epoch 16/20\n",
      "1875/1875 - 4s - loss: 2.3025 - accuracy: 0.1105 - 4s/epoch - 2ms/step\n",
      "Epoch 17/20\n",
      "1875/1875 - 3s - loss: 2.3025 - accuracy: 0.1146 - 3s/epoch - 2ms/step\n",
      "Epoch 18/20\n",
      "1875/1875 - 4s - loss: 2.3025 - accuracy: 0.1163 - 4s/epoch - 2ms/step\n",
      "Epoch 19/20\n",
      "1875/1875 - 4s - loss: 2.3025 - accuracy: 0.1187 - 4s/epoch - 2ms/step\n",
      "Epoch 20/20\n",
      "1875/1875 - 4s - loss: 2.3025 - accuracy: 0.1187 - 4s/epoch - 2ms/step\n",
      "313/313 - 0s - loss: 2.3026 - accuracy: 0.1245 - 394ms/epoch - 1ms/step\n"
     ]
    },
    {
     "data": {
      "text/plain": [
       "[2.30259108543396, 0.12449999898672104]"
      ]
     },
     "execution_count": 8,
     "metadata": {},
     "output_type": "execute_result"
    }
   ],
   "source": [
    "# ToDo #3: Now write code (add code cells to this notebook) to train the model for 20 additional epochs. What train and test accuracy do you obtain? \n",
    "\n",
    "modelDFNN1.fit(x_train, y_train, batch_size=32, epochs=20, verbose=2)\n",
    "modelDFNN1.evaluate(x_test, y_test, batch_size=32, verbose=2)\n"
   ]
  },
  {
   "attachments": {},
   "cell_type": "markdown",
   "id": "28b9d4f5",
   "metadata": {},
   "source": [
    "### Construct DFNN model using Functional API  \n",
    "* slightly more complex interface\n",
    "* additional functionality"
   ]
  },
  {
   "cell_type": "code",
   "execution_count": null,
   "id": "ef7835d5",
   "metadata": {},
   "outputs": [],
   "source": [
    "# ToDo #4: Now practice using the OO functional API of keras by constructing your own functional model, modelDFNN2.\n",
    "# To simplify the task, create this model so that it uses the same architecture as the sequential model.\n",
    "# For the final Dense layer use activation=\"softmax\"\n"
   ]
  },
  {
   "cell_type": "code",
   "execution_count": 9,
   "id": "4f9ad72f",
   "metadata": {},
   "outputs": [],
   "source": [
    "# Functional API (A bit more flexible)\n",
    "inputs = keras.Input(shape=(784))\n",
    "x = layers.Dense(512, activation=\"relu\", name=\"first_layer\")(inputs)\n",
    "x = layers.Dense(256, activation=\"relu\", name=\"second_layer\")(x)\n",
    "outputs = layers.Dense(10, activation=\"softmax\")(x)\n",
    "modelDFNN2 = keras.Model(inputs=inputs, outputs=outputs)\n",
    "\n",
    "\n",
    "\n"
   ]
  },
  {
   "cell_type": "code",
   "execution_count": null,
   "id": "0f23ea53",
   "metadata": {},
   "outputs": [],
   "source": [
    "# Now to gain experience invoking methods on objects you have created,\n",
    "# write code to compile(), fit() your new model on the training data. \n",
    "# Then write code to evaluate your new model on the test data. \n",
    "\n"
   ]
  },
  {
   "cell_type": "code",
   "execution_count": 10,
   "id": "7ab84e59",
   "metadata": {},
   "outputs": [
    {
     "name": "stderr",
     "output_type": "stream",
     "text": [
      "WARNING:absl:`lr` is deprecated in TF-Keras optimizer, please use `learning_rate` or use the legacy optimizer, e.g.,tf.keras.optimizers.legacy.Adam.\n"
     ]
    }
   ],
   "source": [
    "modelDFNN2.compile(\n",
    "    loss=keras.losses.SparseCategoricalCrossentropy(from_logits=False),\n",
    "    optimizer=keras.optimizers.Adam(lr=0.001),\n",
    "    metrics=[\"accuracy\"],\n",
    ")"
   ]
  },
  {
   "cell_type": "code",
   "execution_count": 11,
   "id": "07ae3065",
   "metadata": {},
   "outputs": [
    {
     "name": "stdout",
     "output_type": "stream",
     "text": [
      "Epoch 1/5\n",
      "1875/1875 - 5s - loss: 0.1859 - accuracy: 0.9439 - 5s/epoch - 3ms/step\n",
      "Epoch 2/5\n",
      "1875/1875 - 3s - loss: 0.0775 - accuracy: 0.9754 - 3s/epoch - 2ms/step\n",
      "Epoch 3/5\n",
      "1875/1875 - 3s - loss: 0.0548 - accuracy: 0.9830 - 3s/epoch - 2ms/step\n",
      "Epoch 4/5\n",
      "1875/1875 - 3s - loss: 0.0420 - accuracy: 0.9869 - 3s/epoch - 2ms/step\n",
      "Epoch 5/5\n",
      "1875/1875 - 3s - loss: 0.0318 - accuracy: 0.9898 - 3s/epoch - 2ms/step\n",
      "313/313 - 0s - loss: 0.0760 - accuracy: 0.9801 - 488ms/epoch - 2ms/step\n"
     ]
    },
    {
     "data": {
      "text/plain": [
       "[0.07603104412555695, 0.9800999760627747]"
      ]
     },
     "execution_count": 11,
     "metadata": {},
     "output_type": "execute_result"
    }
   ],
   "source": [
    "modelDFNN2.fit(x_train, y_train, batch_size=32, epochs=5, verbose=2)\n",
    "modelDFNN2.evaluate(x_test, y_test, batch_size=32, verbose=2)"
   ]
  },
  {
   "cell_type": "code",
   "execution_count": null,
   "id": "35993c43",
   "metadata": {},
   "outputs": [],
   "source": [
    "# ToDo #5. Write down what train and test accuracy do you observe? How does it compare to the sequential model?\n",
    "# train accuracy： 0.9898\n",
    "# test accuracy :  0.9801 \n",
    "# it is almost 10 times of the sequential model"
   ]
  },
  {
   "cell_type": "code",
   "execution_count": 17,
   "id": "7eaafd90",
   "metadata": {},
   "outputs": [
    {
     "name": "stderr",
     "output_type": "stream",
     "text": [
      "WARNING:absl:`lr` is deprecated in TF-Keras optimizer, please use `learning_rate` or use the legacy optimizer, e.g.,tf.keras.optimizers.legacy.Adam.\n"
     ]
    },
    {
     "name": "stdout",
     "output_type": "stream",
     "text": [
      "Epoch 1/20\n",
      "1875/1875 - 6s - loss: 0.1949 - accuracy: 0.9406 - 6s/epoch - 3ms/step\n",
      "Epoch 2/20\n",
      "1875/1875 - 4s - loss: 0.0895 - accuracy: 0.9724 - 4s/epoch - 2ms/step\n",
      "Epoch 3/20\n",
      "1875/1875 - 4s - loss: 0.0606 - accuracy: 0.9810 - 4s/epoch - 2ms/step\n",
      "Epoch 4/20\n",
      "1875/1875 - 4s - loss: 0.0488 - accuracy: 0.9841 - 4s/epoch - 2ms/step\n",
      "Epoch 5/20\n",
      "1875/1875 - 4s - loss: 0.0387 - accuracy: 0.9881 - 4s/epoch - 2ms/step\n",
      "Epoch 6/20\n",
      "1875/1875 - 4s - loss: 0.0341 - accuracy: 0.9891 - 4s/epoch - 2ms/step\n",
      "Epoch 7/20\n",
      "1875/1875 - 4s - loss: 0.0280 - accuracy: 0.9912 - 4s/epoch - 2ms/step\n",
      "Epoch 8/20\n",
      "1875/1875 - 4s - loss: 0.0255 - accuracy: 0.9918 - 4s/epoch - 2ms/step\n",
      "Epoch 9/20\n",
      "1875/1875 - 4s - loss: 0.0236 - accuracy: 0.9929 - 4s/epoch - 2ms/step\n",
      "Epoch 10/20\n",
      "1875/1875 - 4s - loss: 0.0196 - accuracy: 0.9936 - 4s/epoch - 2ms/step\n",
      "Epoch 11/20\n",
      "1875/1875 - 4s - loss: 0.0186 - accuracy: 0.9947 - 4s/epoch - 2ms/step\n",
      "Epoch 12/20\n",
      "1875/1875 - 4s - loss: 0.0183 - accuracy: 0.9949 - 4s/epoch - 2ms/step\n",
      "Epoch 13/20\n",
      "1875/1875 - 4s - loss: 0.0172 - accuracy: 0.9951 - 4s/epoch - 2ms/step\n",
      "Epoch 14/20\n",
      "1875/1875 - 4s - loss: 0.0165 - accuracy: 0.9952 - 4s/epoch - 2ms/step\n",
      "Epoch 15/20\n",
      "1875/1875 - 4s - loss: 0.0139 - accuracy: 0.9959 - 4s/epoch - 2ms/step\n",
      "Epoch 16/20\n",
      "1875/1875 - 4s - loss: 0.0159 - accuracy: 0.9952 - 4s/epoch - 2ms/step\n",
      "Epoch 17/20\n",
      "1875/1875 - 4s - loss: 0.0129 - accuracy: 0.9963 - 4s/epoch - 2ms/step\n",
      "Epoch 18/20\n",
      "1875/1875 - 4s - loss: 0.0121 - accuracy: 0.9967 - 4s/epoch - 2ms/step\n",
      "Epoch 19/20\n",
      "1875/1875 - 4s - loss: 0.0152 - accuracy: 0.9959 - 4s/epoch - 2ms/step\n",
      "Epoch 20/20\n",
      "1875/1875 - 4s - loss: 0.0101 - accuracy: 0.9972 - 4s/epoch - 2ms/step\n",
      "313/313 - 1s - loss: 0.1085 - accuracy: 0.9814 - 509ms/epoch - 2ms/step\n"
     ]
    },
    {
     "data": {
      "text/plain": [
       "[0.10845708101987839, 0.9814000129699707]"
      ]
     },
     "execution_count": 17,
     "metadata": {},
     "output_type": "execute_result"
    }
   ],
   "source": [
    "# For fun: explore the architecture space by adding or removing layers from your model, retrain from scratch. \n",
    "# Learn how that impacts model performance. State of the art accuracy is around 99.97% . \n",
    "# You do not need to achieve that (nor is that expected here) but to give you an idea.\n",
    "# Functional API (A bit more flexible)\n",
    "inputs = keras.Input(shape=(784))\n",
    "x = layers.Dense(512, activation=\"relu\", name=\"first_layer\")(inputs)\n",
    "x = layers.Dense(256, activation=\"relu\", name=\"second_layer\")(x)\n",
    "x = layers.Dense(128, activation=\"relu\", name=\"third_layer\")(x)\n",
    "outputs = layers.Dense(10, activation=\"softmax\")(x)\n",
    "modelDFNN3 = keras.Model(inputs=inputs, outputs=outputs)\n",
    "\n",
    "modelDFNN3.compile(\n",
    "    loss=keras.losses.SparseCategoricalCrossentropy(from_logits=False),\n",
    "    optimizer=keras.optimizers.Adam(leaning_rate=0.0005),\n",
    "    metrics=[\"accuracy\"],\n",
    ")\n",
    "modelDFNN3.fit(x_train, y_train, batch_size=32, epochs=20, verbose=2)\n",
    "modelDFNN3.evaluate(x_test, y_test, batch_size=32, verbose=2)"
   ]
  },
  {
   "cell_type": "code",
   "execution_count": null,
   "id": "ce2cd960-3451-4c62-8aeb-87e0de99066d",
   "metadata": {},
   "outputs": [],
   "source": []
  }
 ],
 "metadata": {
  "kernelspec": {
   "display_name": "montillo_conda_env",
   "language": "python",
   "name": "montillo_conda_env"
  },
  "language_info": {
   "codemirror_mode": {
    "name": "ipython",
    "version": 3
   },
   "file_extension": ".py",
   "mimetype": "text/x-python",
   "name": "python",
   "nbconvert_exporter": "python",
   "pygments_lexer": "ipython3",
   "version": "3.12.10"
  }
 },
 "nbformat": 4,
 "nbformat_minor": 5
}
