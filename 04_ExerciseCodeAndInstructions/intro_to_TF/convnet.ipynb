{
 "cells": [
  {
   "cell_type": "code",
   "execution_count": 1,
   "id": "efbc893f",
   "metadata": {},
   "outputs": [
    {
     "name": "stderr",
     "output_type": "stream",
     "text": [
      "2025-05-25 18:14:23.350525: E external/local_xla/xla/stream_executor/cuda/cuda_fft.cc:467] Unable to register cuFFT factory: Attempting to register factory for plugin cuFFT when one has already been registered\n",
      "WARNING: All log messages before absl::InitializeLog() is called are written to STDERR\n",
      "E0000 00:00:1748214863.373261   54636 cuda_dnn.cc:8579] Unable to register cuDNN factory: Attempting to register factory for plugin cuDNN when one has already been registered\n",
      "E0000 00:00:1748214863.380251   54636 cuda_blas.cc:1407] Unable to register cuBLAS factory: Attempting to register factory for plugin cuBLAS when one has already been registered\n",
      "W0000 00:00:1748214863.399444   54636 computation_placer.cc:177] computation placer already registered. Please check linkage and avoid linking the same target more than once.\n",
      "W0000 00:00:1748214863.399461   54636 computation_placer.cc:177] computation placer already registered. Please check linkage and avoid linking the same target more than once.\n",
      "W0000 00:00:1748214863.399463   54636 computation_placer.cc:177] computation placer already registered. Please check linkage and avoid linking the same target more than once.\n",
      "W0000 00:00:1748214863.399465   54636 computation_placer.cc:177] computation placer already registered. Please check linkage and avoid linking the same target more than once.\n"
     ]
    }
   ],
   "source": [
    "import os\n",
    "import tensorflow as tf\n",
    "from tensorflow import keras\n",
    "from tensorflow.keras import layers\n",
    "from tensorflow.keras.datasets import cifar10"
   ]
  },
  {
   "cell_type": "code",
   "execution_count": 2,
   "id": "7f00ab3d",
   "metadata": {},
   "outputs": [],
   "source": [
    "(x_train, y_train), (x_test, y_test) = cifar10.load_data()\n",
    "x_train = x_train.astype(\"float32\") / 255.0\n",
    "x_test = x_test.astype(\"float32\") / 255.0\n"
   ]
  },
  {
   "cell_type": "code",
   "execution_count": 3,
   "id": "afef7cfc",
   "metadata": {},
   "outputs": [
    {
     "name": "stderr",
     "output_type": "stream",
     "text": [
      "I0000 00:00:1748214868.149495   54636 gpu_device.cc:2019] Created device /job:localhost/replica:0/task:0/device:GPU:0 with 15506 MB memory:  -> device: 0, name: Tesla P100-PCIE-16GB, pci bus id: 0000:82:00.0, compute capability: 6.0\n"
     ]
    }
   ],
   "source": [
    "model = keras.Sequential(\n",
    "    [\n",
    "        keras.Input(shape=(32, 32, 3)),\n",
    "        layers.Conv2D(32, 3, padding=\"valid\", activation=\"relu\"),\n",
    "        layers.MaxPooling2D(),\n",
    "        layers.Conv2D(64, 3, activation=\"relu\"),\n",
    "        layers.MaxPooling2D(),\n",
    "        layers.Conv2D(128, 3, activation=\"relu\"),\n",
    "        layers.Flatten(),\n",
    "        layers.Dense(64, activation=\"relu\"),\n",
    "        layers.Dense(10),\n",
    "    ]\n",
    ")"
   ]
  },
  {
   "cell_type": "code",
   "execution_count": 4,
   "id": "1fb5c3bd",
   "metadata": {},
   "outputs": [
    {
     "name": "stdout",
     "output_type": "stream",
     "text": [
      "Model: \"sequential\"\n",
      "_________________________________________________________________\n",
      " Layer (type)                Output Shape              Param #   \n",
      "=================================================================\n",
      " conv2d (Conv2D)             (None, 30, 30, 32)        896       \n",
      "                                                                 \n",
      " max_pooling2d (MaxPooling2  (None, 15, 15, 32)        0         \n",
      " D)                                                              \n",
      "                                                                 \n",
      " conv2d_1 (Conv2D)           (None, 13, 13, 64)        18496     \n",
      "                                                                 \n",
      " max_pooling2d_1 (MaxPoolin  (None, 6, 6, 64)          0         \n",
      " g2D)                                                            \n",
      "                                                                 \n",
      " conv2d_2 (Conv2D)           (None, 4, 4, 128)         73856     \n",
      "                                                                 \n",
      " flatten (Flatten)           (None, 2048)              0         \n",
      "                                                                 \n",
      " dense (Dense)               (None, 64)                131136    \n",
      "                                                                 \n",
      " dense_1 (Dense)             (None, 10)                650       \n",
      "                                                                 \n",
      "=================================================================\n",
      "Total params: 225034 (879.04 KB)\n",
      "Trainable params: 225034 (879.04 KB)\n",
      "Non-trainable params: 0 (0.00 Byte)\n",
      "_________________________________________________________________\n",
      "None\n"
     ]
    }
   ],
   "source": [
    "print(model.summary())"
   ]
  },
  {
   "cell_type": "code",
   "execution_count": 5,
   "id": "8e9406a6",
   "metadata": {},
   "outputs": [],
   "source": [
    "model.compile(\n",
    "    loss=keras.losses.SparseCategoricalCrossentropy(from_logits=True),\n",
    "    optimizer=keras.optimizers.Adam(learning_rate=3e-4),\n",
    "    metrics=[\"accuracy\"],\n",
    ")"
   ]
  },
  {
   "cell_type": "code",
   "execution_count": 6,
   "id": "ab4a1d17",
   "metadata": {},
   "outputs": [
    {
     "name": "stdout",
     "output_type": "stream",
     "text": [
      "Epoch 1/10\n"
     ]
    },
    {
     "name": "stderr",
     "output_type": "stream",
     "text": [
      "I0000 00:00:1748214870.289110   54896 cuda_dnn.cc:529] Loaded cuDNN version 90300\n",
      "WARNING: All log messages before absl::InitializeLog() is called are written to STDERR\n",
      "I0000 00:00:1748214870.702785   54895 service.cc:152] XLA service 0x2aae9c253700 initialized for platform CUDA (this does not guarantee that XLA will be used). Devices:\n",
      "I0000 00:00:1748214870.702819   54895 service.cc:160]   StreamExecutor device (0): Tesla P100-PCIE-16GB, Compute Capability 6.0\n",
      "I0000 00:00:1748214870.864939   54895 device_compiler.h:188] Compiled cluster using XLA!  This line is logged at most once for the lifetime of the process.\n"
     ]
    },
    {
     "name": "stdout",
     "output_type": "stream",
     "text": [
      "1563/1563 - 7s - loss: 1.5976 - accuracy: 0.4177 - 7s/epoch - 5ms/step\n",
      "Epoch 2/10\n",
      "1563/1563 - 5s - loss: 1.2612 - accuracy: 0.5522 - 5s/epoch - 3ms/step\n",
      "Epoch 3/10\n",
      "1563/1563 - 5s - loss: 1.1219 - accuracy: 0.6053 - 5s/epoch - 3ms/step\n",
      "Epoch 4/10\n",
      "1563/1563 - 5s - loss: 1.0164 - accuracy: 0.6462 - 5s/epoch - 3ms/step\n",
      "Epoch 5/10\n",
      "1563/1563 - 5s - loss: 0.9357 - accuracy: 0.6727 - 5s/epoch - 3ms/step\n",
      "Epoch 6/10\n",
      "1563/1563 - 5s - loss: 0.8725 - accuracy: 0.6970 - 5s/epoch - 3ms/step\n",
      "Epoch 7/10\n",
      "1563/1563 - 5s - loss: 0.8189 - accuracy: 0.7168 - 5s/epoch - 3ms/step\n",
      "Epoch 8/10\n",
      "1563/1563 - 5s - loss: 0.7682 - accuracy: 0.7338 - 5s/epoch - 3ms/step\n",
      "Epoch 9/10\n",
      "1563/1563 - 5s - loss: 0.7187 - accuracy: 0.7496 - 5s/epoch - 3ms/step\n",
      "Epoch 10/10\n",
      "1563/1563 - 4s - loss: 0.6796 - accuracy: 0.7652 - 4s/epoch - 3ms/step\n",
      "313/313 - 1s - loss: 0.8379 - accuracy: 0.7127 - 634ms/epoch - 2ms/step\n"
     ]
    },
    {
     "data": {
      "text/plain": [
       "[0.8378980755805969, 0.7127000093460083]"
      ]
     },
     "execution_count": 6,
     "metadata": {},
     "output_type": "execute_result"
    }
   ],
   "source": [
    "model.fit(x_train, y_train, batch_size=32, epochs=10, verbose=2)\n",
    "model.evaluate(x_test, y_test, batch_size=32, verbose=2)"
   ]
  },
  {
   "cell_type": "code",
   "execution_count": 7,
   "id": "47d448c4",
   "metadata": {},
   "outputs": [
    {
     "name": "stderr",
     "output_type": "stream",
     "text": [
      "WARNING:absl:`lr` is deprecated in TF-Keras optimizer, please use `learning_rate` or use the legacy optimizer, e.g.,tf.keras.optimizers.legacy.Adam.\n"
     ]
    }
   ],
   "source": [
    "def my_model():\n",
    "    inputs = keras.Input(shape=(32, 32, 3))\n",
    "    x = layers.Conv2D(32, 3)(inputs)\n",
    "    x = layers.BatchNormalization()(x)\n",
    "    x = keras.activations.relu(x)\n",
    "    x = layers.MaxPooling2D()(x)\n",
    "    x = layers.Conv2D(64, 3)(x)\n",
    "    x = layers.BatchNormalization()(x)\n",
    "    x = keras.activations.relu(x)\n",
    "    x = layers.MaxPooling2D()(x)\n",
    "    x = layers.Conv2D(128, 3)(x)\n",
    "    x = layers.BatchNormalization()(x)\n",
    "    x = keras.activations.relu(x)\n",
    "    x = layers.Flatten()(x)\n",
    "    x = layers.Dense(64, activation=\"relu\")(x)\n",
    "    outputs = layers.Dense(10)(x)\n",
    "    model = keras.Model(inputs=inputs, outputs=outputs)\n",
    "    return model\n",
    "\n",
    "\n",
    "modelFunc = my_model()\n",
    "modelFunc.compile(\n",
    "    loss=keras.losses.SparseCategoricalCrossentropy(from_logits=True),\n",
    "    optimizer=keras.optimizers.Adam(lr=3e-4),\n",
    "    metrics=[\"accuracy\"],\n",
    ")"
   ]
  },
  {
   "cell_type": "code",
   "execution_count": 8,
   "id": "939241da",
   "metadata": {},
   "outputs": [
    {
     "name": "stdout",
     "output_type": "stream",
     "text": [
      "Model: \"model\"\n",
      "_________________________________________________________________\n",
      " Layer (type)                Output Shape              Param #   \n",
      "=================================================================\n",
      " input_2 (InputLayer)        [(None, 32, 32, 3)]       0         \n",
      "                                                                 \n",
      " conv2d_3 (Conv2D)           (None, 30, 30, 32)        896       \n",
      "                                                                 \n",
      " batch_normalization (Batch  (None, 30, 30, 32)        128       \n",
      " Normalization)                                                  \n",
      "                                                                 \n",
      " tf.nn.relu (TFOpLambda)     (None, 30, 30, 32)        0         \n",
      "                                                                 \n",
      " max_pooling2d_2 (MaxPoolin  (None, 15, 15, 32)        0         \n",
      " g2D)                                                            \n",
      "                                                                 \n",
      " conv2d_4 (Conv2D)           (None, 13, 13, 64)        18496     \n",
      "                                                                 \n",
      " batch_normalization_1 (Bat  (None, 13, 13, 64)        256       \n",
      " chNormalization)                                                \n",
      "                                                                 \n",
      " tf.nn.relu_1 (TFOpLambda)   (None, 13, 13, 64)        0         \n",
      "                                                                 \n",
      " max_pooling2d_3 (MaxPoolin  (None, 6, 6, 64)          0         \n",
      " g2D)                                                            \n",
      "                                                                 \n",
      " conv2d_5 (Conv2D)           (None, 4, 4, 128)         73856     \n",
      "                                                                 \n",
      " batch_normalization_2 (Bat  (None, 4, 4, 128)         512       \n",
      " chNormalization)                                                \n",
      "                                                                 \n",
      " tf.nn.relu_2 (TFOpLambda)   (None, 4, 4, 128)         0         \n",
      "                                                                 \n",
      " flatten_1 (Flatten)         (None, 2048)              0         \n",
      "                                                                 \n",
      " dense_2 (Dense)             (None, 64)                131136    \n",
      "                                                                 \n",
      " dense_3 (Dense)             (None, 10)                650       \n",
      "                                                                 \n",
      "=================================================================\n",
      "Total params: 225930 (882.54 KB)\n",
      "Trainable params: 225482 (880.79 KB)\n",
      "Non-trainable params: 448 (1.75 KB)\n",
      "_________________________________________________________________\n",
      "None\n"
     ]
    }
   ],
   "source": [
    "print(modelFunc.summary())"
   ]
  },
  {
   "cell_type": "code",
   "execution_count": 9,
   "id": "f28843ed",
   "metadata": {},
   "outputs": [
    {
     "name": "stdout",
     "output_type": "stream",
     "text": [
      "Epoch 1/10\n",
      "782/782 - 7s - loss: 1.2620 - accuracy: 0.5493 - 7s/epoch - 9ms/step\n",
      "Epoch 2/10\n",
      "782/782 - 3s - loss: 0.8824 - accuracy: 0.6908 - 3s/epoch - 4ms/step\n",
      "Epoch 3/10\n",
      "782/782 - 3s - loss: 0.7414 - accuracy: 0.7430 - 3s/epoch - 4ms/step\n",
      "Epoch 4/10\n",
      "782/782 - 3s - loss: 0.6473 - accuracy: 0.7744 - 3s/epoch - 4ms/step\n",
      "Epoch 5/10\n",
      "782/782 - 3s - loss: 0.5689 - accuracy: 0.8005 - 3s/epoch - 4ms/step\n",
      "Epoch 6/10\n",
      "782/782 - 3s - loss: 0.5042 - accuracy: 0.8221 - 3s/epoch - 4ms/step\n",
      "Epoch 7/10\n",
      "782/782 - 3s - loss: 0.4435 - accuracy: 0.8434 - 3s/epoch - 4ms/step\n",
      "Epoch 8/10\n",
      "782/782 - 3s - loss: 0.3907 - accuracy: 0.8629 - 3s/epoch - 4ms/step\n",
      "Epoch 9/10\n",
      "782/782 - 3s - loss: 0.3495 - accuracy: 0.8767 - 3s/epoch - 4ms/step\n",
      "Epoch 10/10\n",
      "782/782 - 3s - loss: 0.3016 - accuracy: 0.8923 - 3s/epoch - 4ms/step\n",
      "157/157 - 0s - loss: 1.2160 - accuracy: 0.6605 - 444ms/epoch - 3ms/step\n"
     ]
    },
    {
     "data": {
      "text/plain": [
       "[1.2160322666168213, 0.6604999899864197]"
      ]
     },
     "execution_count": 9,
     "metadata": {},
     "output_type": "execute_result"
    }
   ],
   "source": [
    "modelFunc.fit(x_train, y_train, batch_size=64, epochs=10, verbose=2)\n",
    "modelFunc.evaluate(x_test, y_test, batch_size=64, verbose=2)"
   ]
  },
  {
   "cell_type": "code",
   "execution_count": 10,
   "id": "d7c6f32a",
   "metadata": {},
   "outputs": [],
   "source": [
    "# To Do:\n",
    "# 1. construct a new class (type) called MyModelSubClass which is a keras.Model, instantiate it, \n",
    "# and then fit the model to the data. \n",
    "#\n",
    "# 2. Now explore: See what kind of accuracy you can get by training longer, \n",
    "# increasing model size, changing the kernel sizes.\n",
    "\n",
    "\n"
   ]
  },
  {
   "cell_type": "code",
   "execution_count": 20,
   "id": "aa6fb05a",
   "metadata": {},
   "outputs": [],
   "source": [
    "class MyModelSubClass(keras.Model):\n",
    "    def __init__(self,name='MyModelSubclass', **kwargs):\n",
    "        # call super (base) class's init\n",
    "        super(MyModelSubClass, self).__init__(name=name, **kwargs)\n",
    "        \n",
    "        # define layers to be used in forward pass\n",
    "        self.conv1 = layers.Conv2D(32, 3, padding = 'same')\n",
    "        self.batchnorm1 = layers.BatchNormalization()\n",
    "        self.relu1 = layers.ReLU()\n",
    "        self.maxpool1 = layers.MaxPooling2D()\n",
    "\n",
    "        self.conv2 = layers.Conv2D(64, 3, padding = 'same')\n",
    "        self.batchnorm2 = layers.BatchNormalization()\n",
    "        self.relu2 = layers.ReLU()\n",
    "        self.maxpool2 = layers.MaxPooling2D()\n",
    "\n",
    "        self.conv3 = layers.Conv2D(128, 3, padding = 'same')\n",
    "        self.batchnorm3 = layers.BatchNormalization()\n",
    "        self.relu3 = layers.ReLU()\n",
    "        self.flatten = layers.Flatten()\n",
    "        self.dense = layers.Dense(64, activation='relu')\n",
    "        self.out = layers.Dense(10)\n",
    "        \n",
    "    def call(self, inputs, training=None):\n",
    "        x = self.conv1(inputs)\n",
    "        x = self.batchnorm1(x)\n",
    "        s = self.relu1(x)\n",
    "        x = self.maxpool1(x)\n",
    "        x = self.conv2(x)\n",
    "        x = self.batchnorm2(x)\n",
    "        x = self.maxpool2(x)\n",
    "        x = self.relu2(x)\n",
    "        x = self.conv3(x)\n",
    "        x = self.batchnorm3(x)\n",
    "        x = self.relu3(x)\n",
    "        x = self.flatten(x)\n",
    "        x = self.dense(x)\n",
    "        return self.out(x)\n",
    "       \n",
    "    def model(self):\n",
    "        x = keras.Input(shape=(32, 32, 3))\n",
    "        return keras.Model(inputs=[x], outputs=self.call(x))\n"
   ]
  },
  {
   "cell_type": "code",
   "execution_count": 21,
   "id": "e1d7488c",
   "metadata": {},
   "outputs": [],
   "source": [
    "# Instantiate the model\n",
    "model = MyModelSubClass()\n",
    "model.build(input_shape = (None, 32, 32, 3))"
   ]
  },
  {
   "cell_type": "code",
   "execution_count": 22,
   "id": "5bec0f9a",
   "metadata": {},
   "outputs": [
    {
     "name": "stdout",
     "output_type": "stream",
     "text": [
      "Model: \"MyModelSubclass\"\n",
      "_________________________________________________________________\n",
      " Layer (type)                Output Shape              Param #   \n",
      "=================================================================\n",
      " conv2d_15 (Conv2D)          multiple                  896       \n",
      "                                                                 \n",
      " batch_normalization_12 (Ba  multiple                  128       \n",
      " tchNormalization)                                               \n",
      "                                                                 \n",
      " re_lu (ReLU)                multiple                  0         \n",
      "                                                                 \n",
      " max_pooling2d_10 (MaxPooli  multiple                  0         \n",
      " ng2D)                                                           \n",
      "                                                                 \n",
      " conv2d_16 (Conv2D)          multiple                  18496     \n",
      "                                                                 \n",
      " batch_normalization_13 (Ba  multiple                  256       \n",
      " tchNormalization)                                               \n",
      "                                                                 \n",
      " re_lu_1 (ReLU)              multiple                  0         \n",
      "                                                                 \n",
      " max_pooling2d_11 (MaxPooli  multiple                  0         \n",
      " ng2D)                                                           \n",
      "                                                                 \n",
      " conv2d_17 (Conv2D)          multiple                  73856     \n",
      "                                                                 \n",
      " batch_normalization_14 (Ba  multiple                  512       \n",
      " tchNormalization)                                               \n",
      "                                                                 \n",
      " re_lu_2 (ReLU)              multiple                  0         \n",
      "                                                                 \n",
      " flatten_5 (Flatten)         multiple                  0         \n",
      "                                                                 \n",
      " dense_10 (Dense)            multiple                  524352    \n",
      "                                                                 \n",
      " dense_11 (Dense)            multiple                  650       \n",
      "                                                                 \n",
      "=================================================================\n",
      "Total params: 619146 (2.36 MB)\n",
      "Trainable params: 618698 (2.36 MB)\n",
      "Non-trainable params: 448 (1.75 KB)\n",
      "_________________________________________________________________\n"
     ]
    }
   ],
   "source": [
    "# Print a summary of the model\n",
    "model.summary()"
   ]
  },
  {
   "cell_type": "code",
   "execution_count": 23,
   "id": "4731a3ad",
   "metadata": {},
   "outputs": [],
   "source": [
    "# Compile the model\n",
    "model.compile(\n",
    "    loss=keras.losses.SparseCategoricalCrossentropy(from_logits=True),\n",
    "    optimizer=keras.optimizers.Adam(learning_rate=3e-4),\n",
    "    metrics=[\"accuracy\"],\n",
    ")"
   ]
  },
  {
   "cell_type": "code",
   "execution_count": 24,
   "id": "2533fabe",
   "metadata": {},
   "outputs": [
    {
     "name": "stdout",
     "output_type": "stream",
     "text": [
      "Epoch 1/10\n",
      "1563/1563 - 10s - loss: 1.2659 - accuracy: 0.5495 - 10s/epoch - 6ms/step\n",
      "Epoch 2/10\n",
      "1563/1563 - 6s - loss: 0.8828 - accuracy: 0.6912 - 6s/epoch - 4ms/step\n",
      "Epoch 3/10\n",
      "1563/1563 - 6s - loss: 0.7325 - accuracy: 0.7440 - 6s/epoch - 4ms/step\n",
      "Epoch 4/10\n",
      "1563/1563 - 6s - loss: 0.6350 - accuracy: 0.7776 - 6s/epoch - 4ms/step\n",
      "Epoch 5/10\n",
      "1563/1563 - 6s - loss: 0.5506 - accuracy: 0.8094 - 6s/epoch - 4ms/step\n",
      "Epoch 6/10\n",
      "1563/1563 - 6s - loss: 0.4776 - accuracy: 0.8346 - 6s/epoch - 4ms/step\n",
      "Epoch 7/10\n",
      "1563/1563 - 6s - loss: 0.4132 - accuracy: 0.8568 - 6s/epoch - 4ms/step\n",
      "Epoch 8/10\n",
      "1563/1563 - 6s - loss: 0.3561 - accuracy: 0.8787 - 6s/epoch - 4ms/step\n",
      "Epoch 9/10\n",
      "1563/1563 - 6s - loss: 0.3024 - accuracy: 0.8966 - 6s/epoch - 4ms/step\n",
      "Epoch 10/10\n",
      "1563/1563 - 6s - loss: 0.2593 - accuracy: 0.9114 - 6s/epoch - 4ms/step\n",
      "313/313 - 1s - loss: 0.8728 - accuracy: 0.7392 - 699ms/epoch - 2ms/step\n"
     ]
    },
    {
     "data": {
      "text/plain": [
       "[0.8728358149528503, 0.7391999959945679]"
      ]
     },
     "execution_count": 24,
     "metadata": {},
     "output_type": "execute_result"
    }
   ],
   "source": [
    "# Fit the model\n",
    "model.fit(x_train, y_train, batch_size=32, epochs=10, verbose=2)\n",
    "model.evaluate(x_test, y_test, batch_size=32, verbose=2)"
   ]
  },
  {
   "cell_type": "code",
   "execution_count": null,
   "id": "64e03a53",
   "metadata": {},
   "outputs": [],
   "source": [
    "# Check your model's performance\n",
    "# train accuracy: 0.9114\n",
    "# test accuracy: 0.73\n",
    "# it is improving"
   ]
  },
  {
   "cell_type": "code",
   "execution_count": null,
   "id": "0abbd291",
   "metadata": {},
   "outputs": [],
   "source": [
    "### Rinse and repeat; this time add more layers. "
   ]
  },
  {
   "cell_type": "code",
   "execution_count": 25,
   "id": "09f59fe9",
   "metadata": {},
   "outputs": [],
   "source": [
    "class MyModelSubClass(keras.Model):\n",
    "    def __init__(self,name='MyModelSubclass', **kwargs):\n",
    "        # call super (base) class's init\n",
    "        super(MyModelSubClass, self).__init__(name=name, **kwargs)\n",
    "        \n",
    "        # define layers to be used in forward pass\n",
    "        self.conv1 = layers.Conv2D(32, 3, padding = 'same')\n",
    "        self.batchnorm1 = layers.BatchNormalization()\n",
    "        self.relu1 = layers.ReLU()\n",
    "        self.maxpool1 = layers.MaxPooling2D()\n",
    "\n",
    "        self.conv2 = layers.Conv2D(64, 3, padding = 'same')\n",
    "        self.batchnorm2 = layers.BatchNormalization()\n",
    "        self.relu2 = layers.ReLU()\n",
    "        self.maxpool2 = layers.MaxPooling2D()\n",
    "\n",
    "        self.conv3 = layers.Conv2D(128, 3, padding = 'same')\n",
    "        self.batchnorm3 = layers.BatchNormalization()\n",
    "        self.relu3 = layers.ReLU()\n",
    "        self.maxpool3 = layers.MaxPooling2D() \n",
    "        \n",
    "        self.conv4 = layers.Conv2D(256, 3, padding = 'same')\n",
    "        self.batchnorm4 = layers.BatchNormalization()\n",
    "        self.relu4 = layers.ReLU()\n",
    "        \n",
    "        self.flatten = layers.Flatten()\n",
    "        self.dense = layers.Dense(64, activation='relu')\n",
    "        self.out = layers.Dense(10)\n",
    "        \n",
    "    def call(self, inputs, training=None):\n",
    "        x = self.conv1(inputs)\n",
    "        x = self.batchnorm1(x)\n",
    "        s = self.relu1(x)\n",
    "        x = self.maxpool1(x)\n",
    "        x = self.conv2(x)\n",
    "        x = self.batchnorm2(x)\n",
    "        x = self.maxpool2(x)\n",
    "        x = self.relu2(x)\n",
    "        x = self.conv3(x)\n",
    "        x = self.batchnorm3(x)\n",
    "        x = self.relu3(x)\n",
    "        x = self.maxpool3(x)\n",
    "        x = self.conv4(x)\n",
    "        x = self.batchnorm4(x)\n",
    "        x = self.relu4(x)\n",
    "        x = self.flatten(x)\n",
    "        x = self.dense(x)\n",
    "        return self.out(x)\n",
    "       \n",
    "    def model(self):\n",
    "        x = keras.Input(shape=(32, 32, 3))\n",
    "        return keras.Model(inputs=[x], outputs=self.call(x))\n"
   ]
  },
  {
   "cell_type": "code",
   "execution_count": 29,
   "id": "eb919a8e",
   "metadata": {},
   "outputs": [],
   "source": [
    "# Instantiate the model\n",
    "model = MyModelSubClass()\n",
    "model.build(input_shape = (None, 32, 32, 3))\n"
   ]
  },
  {
   "cell_type": "code",
   "execution_count": 30,
   "id": "bb8adeec",
   "metadata": {},
   "outputs": [
    {
     "name": "stdout",
     "output_type": "stream",
     "text": [
      "Model: \"MyModelSubclass\"\n",
      "_________________________________________________________________\n",
      " Layer (type)                Output Shape              Param #   \n",
      "=================================================================\n",
      " conv2d_22 (Conv2D)          multiple                  896       \n",
      "                                                                 \n",
      " batch_normalization_19 (Ba  multiple                  128       \n",
      " tchNormalization)                                               \n",
      "                                                                 \n",
      " re_lu_7 (ReLU)              multiple                  0         \n",
      "                                                                 \n",
      " max_pooling2d_15 (MaxPooli  multiple                  0         \n",
      " ng2D)                                                           \n",
      "                                                                 \n",
      " conv2d_23 (Conv2D)          multiple                  18496     \n",
      "                                                                 \n",
      " batch_normalization_20 (Ba  multiple                  256       \n",
      " tchNormalization)                                               \n",
      "                                                                 \n",
      " re_lu_8 (ReLU)              multiple                  0         \n",
      "                                                                 \n",
      " max_pooling2d_16 (MaxPooli  multiple                  0         \n",
      " ng2D)                                                           \n",
      "                                                                 \n",
      " conv2d_24 (Conv2D)          multiple                  73856     \n",
      "                                                                 \n",
      " batch_normalization_21 (Ba  multiple                  512       \n",
      " tchNormalization)                                               \n",
      "                                                                 \n",
      " re_lu_9 (ReLU)              multiple                  0         \n",
      "                                                                 \n",
      " max_pooling2d_17 (MaxPooli  multiple                  0         \n",
      " ng2D)                                                           \n",
      "                                                                 \n",
      " conv2d_25 (Conv2D)          multiple                  295168    \n",
      "                                                                 \n",
      " batch_normalization_22 (Ba  multiple                  1024      \n",
      " tchNormalization)                                               \n",
      "                                                                 \n",
      " re_lu_10 (ReLU)             multiple                  0         \n",
      "                                                                 \n",
      " flatten_7 (Flatten)         multiple                  0         \n",
      "                                                                 \n",
      " dense_14 (Dense)            multiple                  262208    \n",
      "                                                                 \n",
      " dense_15 (Dense)            multiple                  650       \n",
      "                                                                 \n",
      "=================================================================\n",
      "Total params: 653194 (2.49 MB)\n",
      "Trainable params: 652234 (2.49 MB)\n",
      "Non-trainable params: 960 (3.75 KB)\n",
      "_________________________________________________________________\n"
     ]
    }
   ],
   "source": [
    "# Print a summary of the model\n",
    "model.summary()"
   ]
  },
  {
   "cell_type": "code",
   "execution_count": 31,
   "id": "0df77a68",
   "metadata": {},
   "outputs": [],
   "source": [
    "# Compile the model\n",
    "model.compile(\n",
    "    loss=keras.losses.SparseCategoricalCrossentropy(from_logits=True),\n",
    "    optimizer=keras.optimizers.Adam(learning_rate=3e-4),\n",
    "    metrics=[\"accuracy\"],\n",
    ")"
   ]
  },
  {
   "cell_type": "code",
   "execution_count": 32,
   "id": "ee7a6b07",
   "metadata": {},
   "outputs": [
    {
     "name": "stdout",
     "output_type": "stream",
     "text": [
      "Epoch 1/10\n",
      "1563/1563 - 13s - loss: 1.2332 - accuracy: 0.5613 - 13s/epoch - 8ms/step\n",
      "Epoch 2/10\n",
      "1563/1563 - 7s - loss: 0.8448 - accuracy: 0.7050 - 7s/epoch - 4ms/step\n",
      "Epoch 3/10\n",
      "1563/1563 - 7s - loss: 0.6833 - accuracy: 0.7615 - 7s/epoch - 4ms/step\n",
      "Epoch 4/10\n",
      "1563/1563 - 7s - loss: 0.5610 - accuracy: 0.8054 - 7s/epoch - 4ms/step\n",
      "Epoch 5/10\n",
      "1563/1563 - 7s - loss: 0.4614 - accuracy: 0.8382 - 7s/epoch - 4ms/step\n",
      "Epoch 6/10\n",
      "1563/1563 - 7s - loss: 0.3792 - accuracy: 0.8680 - 7s/epoch - 4ms/step\n",
      "Epoch 7/10\n",
      "1563/1563 - 7s - loss: 0.2996 - accuracy: 0.8971 - 7s/epoch - 4ms/step\n",
      "Epoch 8/10\n",
      "1563/1563 - 7s - loss: 0.2382 - accuracy: 0.9197 - 7s/epoch - 4ms/step\n",
      "Epoch 9/10\n",
      "1563/1563 - 7s - loss: 0.1906 - accuracy: 0.9342 - 7s/epoch - 4ms/step\n",
      "Epoch 10/10\n",
      "1563/1563 - 7s - loss: 0.1498 - accuracy: 0.9496 - 7s/epoch - 4ms/step\n",
      "313/313 - 1s - loss: 1.0212 - accuracy: 0.7329 - 796ms/epoch - 3ms/step\n"
     ]
    },
    {
     "data": {
      "text/plain": [
       "[1.0212074518203735, 0.7329000234603882]"
      ]
     },
     "execution_count": 32,
     "metadata": {},
     "output_type": "execute_result"
    }
   ],
   "source": [
    "# Fit the model\n",
    "model.fit(x_train, y_train, batch_size=32, epochs=10, verbose=2)\n",
    "model.evaluate(x_test, y_test, batch_size=32, verbose=2)"
   ]
  },
  {
   "cell_type": "code",
   "execution_count": null,
   "id": "5af0b762",
   "metadata": {},
   "outputs": [],
   "source": [
    "# Check your model's performance. How does the performance compare with the smaller model?\n",
    "# train accuracy: 0.94\n",
    "# test accuracy: 0.73 \n",
    "# train accuracy increased but test accuracy doesn't increase much"
   ]
  },
  {
   "cell_type": "code",
   "execution_count": null,
   "id": "311d1b65",
   "metadata": {},
   "outputs": [],
   "source": [
    "### Rinse and repeat; this time change the kernel size. "
   ]
  },
  {
   "cell_type": "code",
   "execution_count": 33,
   "id": "41b09dac",
   "metadata": {},
   "outputs": [],
   "source": [
    "class MyModelSubClass(keras.Model):\n",
    "    def __init__(self,name='MyModelSubclass', **kwargs):\n",
    "        # call super (base) class's init\n",
    "        super(MyModelSubClass, self).__init__(name=name, **kwargs)\n",
    "        \n",
    "        # define layers to be used in forward pass\n",
    "        self.conv1 = layers.Conv2D(32, 4, padding = 'same')\n",
    "        self.batchnorm1 = layers.BatchNormalization()\n",
    "        self.relu1 = layers.ReLU()\n",
    "        self.maxpool1 = layers.MaxPooling2D()\n",
    "\n",
    "        self.conv2 = layers.Conv2D(64, 4, padding = 'same')\n",
    "        self.batchnorm2 = layers.BatchNormalization()\n",
    "        self.relu2 = layers.ReLU()\n",
    "        self.maxpool2 = layers.MaxPooling2D()\n",
    "\n",
    "        self.conv3 = layers.Conv2D(128, 4, padding = 'same')\n",
    "        self.batchnorm3 = layers.BatchNormalization()\n",
    "        self.relu3 = layers.ReLU()\n",
    "        self.flatten = layers.Flatten()\n",
    "        self.dense = layers.Dense(64, activation='relu')\n",
    "        self.out = layers.Dense(10)\n",
    "        \n",
    "    def call(self, inputs, training=None):\n",
    "        x = self.conv1(inputs)\n",
    "        x = self.batchnorm1(x)\n",
    "        s = self.relu1(x)\n",
    "        x = self.maxpool1(x)\n",
    "        x = self.conv2(x)\n",
    "        x = self.batchnorm2(x)\n",
    "        x = self.maxpool2(x)\n",
    "        x = self.relu2(x)\n",
    "        x = self.conv3(x)\n",
    "        x = self.batchnorm3(x)\n",
    "        x = self.relu3(x)\n",
    "        x = self.flatten(x)\n",
    "        x = self.dense(x)\n",
    "        return self.out(x)\n",
    "       \n",
    "    def model(self):\n",
    "        x = keras.Input(shape=(32, 32, 3))\n",
    "        return keras.Model(inputs=[x], outputs=self.call(x))"
   ]
  },
  {
   "cell_type": "code",
   "execution_count": 34,
   "id": "f8ccac85",
   "metadata": {},
   "outputs": [],
   "source": [
    "# Instantiate the model\n",
    "model = MyModelSubClass()\n",
    "model.build(input_shape = (None, 32, 32, 3))"
   ]
  },
  {
   "cell_type": "code",
   "execution_count": 35,
   "id": "89a5777b",
   "metadata": {},
   "outputs": [
    {
     "name": "stdout",
     "output_type": "stream",
     "text": [
      "Model: \"MyModelSubclass\"\n",
      "_________________________________________________________________\n",
      " Layer (type)                Output Shape              Param #   \n",
      "=================================================================\n",
      " conv2d_26 (Conv2D)          multiple                  1568      \n",
      "                                                                 \n",
      " batch_normalization_23 (Ba  multiple                  128       \n",
      " tchNormalization)                                               \n",
      "                                                                 \n",
      " re_lu_11 (ReLU)             multiple                  0         \n",
      "                                                                 \n",
      " max_pooling2d_18 (MaxPooli  multiple                  0         \n",
      " ng2D)                                                           \n",
      "                                                                 \n",
      " conv2d_27 (Conv2D)          multiple                  32832     \n",
      "                                                                 \n",
      " batch_normalization_24 (Ba  multiple                  256       \n",
      " tchNormalization)                                               \n",
      "                                                                 \n",
      " re_lu_12 (ReLU)             multiple                  0         \n",
      "                                                                 \n",
      " max_pooling2d_19 (MaxPooli  multiple                  0         \n",
      " ng2D)                                                           \n",
      "                                                                 \n",
      " conv2d_28 (Conv2D)          multiple                  131200    \n",
      "                                                                 \n",
      " batch_normalization_25 (Ba  multiple                  512       \n",
      " tchNormalization)                                               \n",
      "                                                                 \n",
      " re_lu_13 (ReLU)             multiple                  0         \n",
      "                                                                 \n",
      " flatten_8 (Flatten)         multiple                  0         \n",
      "                                                                 \n",
      " dense_16 (Dense)            multiple                  524352    \n",
      "                                                                 \n",
      " dense_17 (Dense)            multiple                  650       \n",
      "                                                                 \n",
      "=================================================================\n",
      "Total params: 691498 (2.64 MB)\n",
      "Trainable params: 691050 (2.64 MB)\n",
      "Non-trainable params: 448 (1.75 KB)\n",
      "_________________________________________________________________\n"
     ]
    }
   ],
   "source": [
    "# Print a summary of the model\n",
    "model.summary()"
   ]
  },
  {
   "cell_type": "code",
   "execution_count": 36,
   "id": "00cc57fe",
   "metadata": {},
   "outputs": [],
   "source": [
    "# Compile the model\n",
    "model.compile(\n",
    "    loss=keras.losses.SparseCategoricalCrossentropy(from_logits=True),\n",
    "    optimizer=keras.optimizers.Adam(learning_rate=3e-4),\n",
    "    metrics=[\"accuracy\"],\n",
    ")"
   ]
  },
  {
   "cell_type": "code",
   "execution_count": 37,
   "id": "4d7ffc1b",
   "metadata": {},
   "outputs": [
    {
     "name": "stdout",
     "output_type": "stream",
     "text": [
      "Epoch 1/10\n",
      "1563/1563 - 10s - loss: 1.2870 - accuracy: 0.5408 - 10s/epoch - 7ms/step\n",
      "Epoch 2/10\n",
      "1563/1563 - 6s - loss: 0.8913 - accuracy: 0.6862 - 6s/epoch - 4ms/step\n",
      "Epoch 3/10\n",
      "1563/1563 - 6s - loss: 0.7457 - accuracy: 0.7388 - 6s/epoch - 4ms/step\n",
      "Epoch 4/10\n",
      "1563/1563 - 6s - loss: 0.6409 - accuracy: 0.7751 - 6s/epoch - 4ms/step\n",
      "Epoch 5/10\n",
      "1563/1563 - 6s - loss: 0.5576 - accuracy: 0.8070 - 6s/epoch - 4ms/step\n",
      "Epoch 6/10\n",
      "1563/1563 - 6s - loss: 0.4811 - accuracy: 0.8351 - 6s/epoch - 4ms/step\n",
      "Epoch 7/10\n",
      "1563/1563 - 6s - loss: 0.4164 - accuracy: 0.8550 - 6s/epoch - 4ms/step\n",
      "Epoch 8/10\n",
      "1563/1563 - 6s - loss: 0.3598 - accuracy: 0.8769 - 6s/epoch - 4ms/step\n",
      "Epoch 9/10\n",
      "1563/1563 - 6s - loss: 0.3017 - accuracy: 0.8961 - 6s/epoch - 4ms/step\n",
      "Epoch 10/10\n",
      "1563/1563 - 6s - loss: 0.2561 - accuracy: 0.9134 - 6s/epoch - 4ms/step\n",
      "313/313 - 1s - loss: 0.9283 - accuracy: 0.7423 - 752ms/epoch - 2ms/step\n"
     ]
    },
    {
     "data": {
      "text/plain": [
       "[0.9283348917961121, 0.7422999739646912]"
      ]
     },
     "execution_count": 37,
     "metadata": {},
     "output_type": "execute_result"
    }
   ],
   "source": [
    "# Fit the model\n",
    "model.fit(x_train, y_train, batch_size=32, epochs=10, verbose=2)\n",
    "model.evaluate(x_test, y_test, batch_size=32, verbose=2)"
   ]
  },
  {
   "cell_type": "code",
   "execution_count": 38,
   "id": "4f189617",
   "metadata": {},
   "outputs": [],
   "source": [
    "# Check your model's performance. How does the performance compare with the other two models?\n",
    "# train accuracy: 0.9134\n",
    "# test accuracy: 0.7423\n",
    "# train accuracy doesn't increase but test accuracy increases"
   ]
  },
  {
   "cell_type": "code",
   "execution_count": null,
   "id": "bfa67cad-e596-4801-9e2d-025a58ac7b47",
   "metadata": {},
   "outputs": [],
   "source": []
  }
 ],
 "metadata": {
  "kernelspec": {
   "display_name": "montillo_conda_env",
   "language": "python",
   "name": "montillo_conda_env"
  },
  "language_info": {
   "codemirror_mode": {
    "name": "ipython",
    "version": 3
   },
   "file_extension": ".py",
   "mimetype": "text/x-python",
   "name": "python",
   "nbconvert_exporter": "python",
   "pygments_lexer": "ipython3",
   "version": "3.12.10"
  }
 },
 "nbformat": 4,
 "nbformat_minor": 5
}
